{
 "cells": [
  {
   "cell_type": "code",
   "execution_count": 3,
   "id": "f857efb6",
   "metadata": {},
   "outputs": [],
   "source": [
    "import warnings\n",
    "warnings.filterwarnings(\"ignore\")"
   ]
  },
  {
   "cell_type": "code",
   "execution_count": 4,
   "id": "aa344547",
   "metadata": {},
   "outputs": [
    {
     "data": {
      "text/html": [
       "<div>\n",
       "<style scoped>\n",
       "    .dataframe tbody tr th:only-of-type {\n",
       "        vertical-align: middle;\n",
       "    }\n",
       "\n",
       "    .dataframe tbody tr th {\n",
       "        vertical-align: top;\n",
       "    }\n",
       "\n",
       "    .dataframe thead th {\n",
       "        text-align: right;\n",
       "    }\n",
       "</style>\n",
       "<table border=\"1\" class=\"dataframe\">\n",
       "  <thead>\n",
       "    <tr style=\"text-align: right;\">\n",
       "      <th></th>\n",
       "      <th>BROKERTITLE</th>\n",
       "      <th>TYPE</th>\n",
       "      <th>PRICE</th>\n",
       "      <th>BEDS</th>\n",
       "      <th>BATH</th>\n",
       "      <th>PROPERTYSQFT</th>\n",
       "      <th>ADDRESS</th>\n",
       "      <th>STATE</th>\n",
       "      <th>MAIN_ADDRESS</th>\n",
       "      <th>ADMINISTRATIVE_AREA_LEVEL_2</th>\n",
       "      <th>LOCALITY</th>\n",
       "      <th>SUBLOCALITY</th>\n",
       "      <th>STREET_NAME</th>\n",
       "      <th>LONG_NAME</th>\n",
       "      <th>FORMATTED_ADDRESS</th>\n",
       "      <th>LATITUDE</th>\n",
       "      <th>LONGITUDE</th>\n",
       "    </tr>\n",
       "  </thead>\n",
       "  <tbody>\n",
       "    <tr>\n",
       "      <th>0</th>\n",
       "      <td>Brokered by Douglas Elliman  -111 Fifth Ave</td>\n",
       "      <td>Condo for sale</td>\n",
       "      <td>315000</td>\n",
       "      <td>2</td>\n",
       "      <td>2.000000</td>\n",
       "      <td>1400.000000</td>\n",
       "      <td>2 E 55th St Unit 803</td>\n",
       "      <td>New York, NY 10022</td>\n",
       "      <td>2 E 55th St Unit 803New York, NY 10022</td>\n",
       "      <td>New York County</td>\n",
       "      <td>New York</td>\n",
       "      <td>Manhattan</td>\n",
       "      <td>East 55th Street</td>\n",
       "      <td>Regis Residence</td>\n",
       "      <td>Regis Residence, 2 E 55th St #803, New York, N...</td>\n",
       "      <td>40.761255</td>\n",
       "      <td>-73.974483</td>\n",
       "    </tr>\n",
       "    <tr>\n",
       "      <th>1</th>\n",
       "      <td>Brokered by Serhant</td>\n",
       "      <td>Condo for sale</td>\n",
       "      <td>195000000</td>\n",
       "      <td>7</td>\n",
       "      <td>10.000000</td>\n",
       "      <td>17545.000000</td>\n",
       "      <td>Central Park Tower Penthouse-217 W 57th New Yo...</td>\n",
       "      <td>New York, NY 10019</td>\n",
       "      <td>Central Park Tower Penthouse-217 W 57th New Yo...</td>\n",
       "      <td>United States</td>\n",
       "      <td>New York</td>\n",
       "      <td>New York County</td>\n",
       "      <td>New York</td>\n",
       "      <td>West 57th Street</td>\n",
       "      <td>217 W 57th St, New York, NY 10019, USA</td>\n",
       "      <td>40.766393</td>\n",
       "      <td>-73.980991</td>\n",
       "    </tr>\n",
       "    <tr>\n",
       "      <th>2</th>\n",
       "      <td>Brokered by Sowae Corp</td>\n",
       "      <td>House for sale</td>\n",
       "      <td>260000</td>\n",
       "      <td>4</td>\n",
       "      <td>2.000000</td>\n",
       "      <td>2015.000000</td>\n",
       "      <td>620 Sinclair Ave</td>\n",
       "      <td>Staten Island, NY 10312</td>\n",
       "      <td>620 Sinclair AveStaten Island, NY 10312</td>\n",
       "      <td>United States</td>\n",
       "      <td>New York</td>\n",
       "      <td>Richmond County</td>\n",
       "      <td>Staten Island</td>\n",
       "      <td>Sinclair Avenue</td>\n",
       "      <td>620 Sinclair Ave, Staten Island, NY 10312, USA</td>\n",
       "      <td>40.541805</td>\n",
       "      <td>-74.196109</td>\n",
       "    </tr>\n",
       "    <tr>\n",
       "      <th>3</th>\n",
       "      <td>Brokered by COMPASS</td>\n",
       "      <td>Condo for sale</td>\n",
       "      <td>69000</td>\n",
       "      <td>3</td>\n",
       "      <td>1.000000</td>\n",
       "      <td>445.000000</td>\n",
       "      <td>2 E 55th St Unit 908W33</td>\n",
       "      <td>Manhattan, NY 10022</td>\n",
       "      <td>2 E 55th St Unit 908W33Manhattan, NY 10022</td>\n",
       "      <td>United States</td>\n",
       "      <td>New York</td>\n",
       "      <td>New York County</td>\n",
       "      <td>New York</td>\n",
       "      <td>East 55th Street</td>\n",
       "      <td>2 E 55th St, New York, NY 10022, USA</td>\n",
       "      <td>40.761398</td>\n",
       "      <td>-73.974613</td>\n",
       "    </tr>\n",
       "    <tr>\n",
       "      <th>4</th>\n",
       "      <td>Brokered by Sotheby's International Realty - E...</td>\n",
       "      <td>Townhouse for sale</td>\n",
       "      <td>55000000</td>\n",
       "      <td>7</td>\n",
       "      <td>2.373861</td>\n",
       "      <td>14175.000000</td>\n",
       "      <td>5 E 64th St</td>\n",
       "      <td>New York, NY 10065</td>\n",
       "      <td>5 E 64th StNew York, NY 10065</td>\n",
       "      <td>United States</td>\n",
       "      <td>New York</td>\n",
       "      <td>New York County</td>\n",
       "      <td>New York</td>\n",
       "      <td>East 64th Street</td>\n",
       "      <td>5 E 64th St, New York, NY 10065, USA</td>\n",
       "      <td>40.767224</td>\n",
       "      <td>-73.969856</td>\n",
       "    </tr>\n",
       "    <tr>\n",
       "      <th>...</th>\n",
       "      <td>...</td>\n",
       "      <td>...</td>\n",
       "      <td>...</td>\n",
       "      <td>...</td>\n",
       "      <td>...</td>\n",
       "      <td>...</td>\n",
       "      <td>...</td>\n",
       "      <td>...</td>\n",
       "      <td>...</td>\n",
       "      <td>...</td>\n",
       "      <td>...</td>\n",
       "      <td>...</td>\n",
       "      <td>...</td>\n",
       "      <td>...</td>\n",
       "      <td>...</td>\n",
       "      <td>...</td>\n",
       "      <td>...</td>\n",
       "    </tr>\n",
       "    <tr>\n",
       "      <th>4796</th>\n",
       "      <td>Brokered by COMPASS</td>\n",
       "      <td>Co-op for sale</td>\n",
       "      <td>599000</td>\n",
       "      <td>1</td>\n",
       "      <td>1.000000</td>\n",
       "      <td>2184.207862</td>\n",
       "      <td>222 E 80th St Apt 3A</td>\n",
       "      <td>Manhattan, NY 10075</td>\n",
       "      <td>222 E 80th St Apt 3AManhattan, NY 10075</td>\n",
       "      <td>New York</td>\n",
       "      <td>New York County</td>\n",
       "      <td>New York</td>\n",
       "      <td>Manhattan</td>\n",
       "      <td>222</td>\n",
       "      <td>222 E 80th St #3a, New York, NY 10075, USA</td>\n",
       "      <td>40.774350</td>\n",
       "      <td>-73.955879</td>\n",
       "    </tr>\n",
       "    <tr>\n",
       "      <th>4797</th>\n",
       "      <td>Brokered by Mjr Real Estate Llc</td>\n",
       "      <td>Co-op for sale</td>\n",
       "      <td>245000</td>\n",
       "      <td>1</td>\n",
       "      <td>1.000000</td>\n",
       "      <td>2184.207862</td>\n",
       "      <td>97-40 62 Dr Unit Lg</td>\n",
       "      <td>Rego Park, NY 11374</td>\n",
       "      <td>97-40 62 Dr Unit LgRego Park, NY 11374</td>\n",
       "      <td>United States</td>\n",
       "      <td>New York</td>\n",
       "      <td>Queens County</td>\n",
       "      <td>Queens</td>\n",
       "      <td>62nd Drive</td>\n",
       "      <td>97-40 62nd Dr, Rego Park, NY 11374, USA</td>\n",
       "      <td>40.732538</td>\n",
       "      <td>-73.860152</td>\n",
       "    </tr>\n",
       "    <tr>\n",
       "      <th>4798</th>\n",
       "      <td>Brokered by Douglas Elliman - 575 Madison Ave</td>\n",
       "      <td>Co-op for sale</td>\n",
       "      <td>1275000</td>\n",
       "      <td>1</td>\n",
       "      <td>1.000000</td>\n",
       "      <td>2184.207862</td>\n",
       "      <td>427 W 21st St Unit Garden</td>\n",
       "      <td>New York, NY 10011</td>\n",
       "      <td>427 W 21st St Unit GardenNew York, NY 10011</td>\n",
       "      <td>United States</td>\n",
       "      <td>New York</td>\n",
       "      <td>New York County</td>\n",
       "      <td>New York</td>\n",
       "      <td>West 21st Street</td>\n",
       "      <td>427 W 21st St, New York, NY 10011, USA</td>\n",
       "      <td>40.745882</td>\n",
       "      <td>-74.003398</td>\n",
       "    </tr>\n",
       "    <tr>\n",
       "      <th>4799</th>\n",
       "      <td>Brokered by E Realty International Corp</td>\n",
       "      <td>Condo for sale</td>\n",
       "      <td>598125</td>\n",
       "      <td>2</td>\n",
       "      <td>1.000000</td>\n",
       "      <td>655.000000</td>\n",
       "      <td>91-23 Corona Ave Unit 4G</td>\n",
       "      <td>Elmhurst, NY 11373</td>\n",
       "      <td>91-23 Corona Ave Unit 4GElmhurst, NY 11373</td>\n",
       "      <td>New York</td>\n",
       "      <td>Queens County</td>\n",
       "      <td>Queens</td>\n",
       "      <td>Flushing</td>\n",
       "      <td>91-23</td>\n",
       "      <td>91-23 Corona Ave. #4b, Flushing, NY 11373, USA</td>\n",
       "      <td>40.742770</td>\n",
       "      <td>-73.872752</td>\n",
       "    </tr>\n",
       "    <tr>\n",
       "      <th>4800</th>\n",
       "      <td>Brokered by Nyc Realty Brokers Llc</td>\n",
       "      <td>Co-op for sale</td>\n",
       "      <td>349000</td>\n",
       "      <td>1</td>\n",
       "      <td>1.000000</td>\n",
       "      <td>750.000000</td>\n",
       "      <td>460 Neptune Ave Apt 14O</td>\n",
       "      <td>Brooklyn, NY 11224</td>\n",
       "      <td>460 Neptune Ave Apt 14OBrooklyn, NY 11224</td>\n",
       "      <td>New York</td>\n",
       "      <td>Kings County</td>\n",
       "      <td>Brooklyn</td>\n",
       "      <td>Coney Island</td>\n",
       "      <td>460</td>\n",
       "      <td>460 Neptune Ave #14a, Brooklyn, NY 11224, USA</td>\n",
       "      <td>40.579147</td>\n",
       "      <td>-73.970949</td>\n",
       "    </tr>\n",
       "  </tbody>\n",
       "</table>\n",
       "<p>4801 rows × 17 columns</p>\n",
       "</div>"
      ],
      "text/plain": [
       "                                            BROKERTITLE                TYPE  \\\n",
       "0           Brokered by Douglas Elliman  -111 Fifth Ave      Condo for sale   \n",
       "1                                   Brokered by Serhant      Condo for sale   \n",
       "2                                Brokered by Sowae Corp      House for sale   \n",
       "3                                   Brokered by COMPASS      Condo for sale   \n",
       "4     Brokered by Sotheby's International Realty - E...  Townhouse for sale   \n",
       "...                                                 ...                 ...   \n",
       "4796                                Brokered by COMPASS      Co-op for sale   \n",
       "4797                    Brokered by Mjr Real Estate Llc      Co-op for sale   \n",
       "4798      Brokered by Douglas Elliman - 575 Madison Ave      Co-op for sale   \n",
       "4799            Brokered by E Realty International Corp      Condo for sale   \n",
       "4800                 Brokered by Nyc Realty Brokers Llc      Co-op for sale   \n",
       "\n",
       "          PRICE  BEDS       BATH  PROPERTYSQFT  \\\n",
       "0        315000     2   2.000000   1400.000000   \n",
       "1     195000000     7  10.000000  17545.000000   \n",
       "2        260000     4   2.000000   2015.000000   \n",
       "3         69000     3   1.000000    445.000000   \n",
       "4      55000000     7   2.373861  14175.000000   \n",
       "...         ...   ...        ...           ...   \n",
       "4796     599000     1   1.000000   2184.207862   \n",
       "4797     245000     1   1.000000   2184.207862   \n",
       "4798    1275000     1   1.000000   2184.207862   \n",
       "4799     598125     2   1.000000    655.000000   \n",
       "4800     349000     1   1.000000    750.000000   \n",
       "\n",
       "                                                ADDRESS  \\\n",
       "0                                  2 E 55th St Unit 803   \n",
       "1     Central Park Tower Penthouse-217 W 57th New Yo...   \n",
       "2                                      620 Sinclair Ave   \n",
       "3                               2 E 55th St Unit 908W33   \n",
       "4                                           5 E 64th St   \n",
       "...                                                 ...   \n",
       "4796                               222 E 80th St Apt 3A   \n",
       "4797                                97-40 62 Dr Unit Lg   \n",
       "4798                          427 W 21st St Unit Garden   \n",
       "4799                           91-23 Corona Ave Unit 4G   \n",
       "4800                            460 Neptune Ave Apt 14O   \n",
       "\n",
       "                        STATE  \\\n",
       "0          New York, NY 10022   \n",
       "1          New York, NY 10019   \n",
       "2     Staten Island, NY 10312   \n",
       "3         Manhattan, NY 10022   \n",
       "4          New York, NY 10065   \n",
       "...                       ...   \n",
       "4796      Manhattan, NY 10075   \n",
       "4797      Rego Park, NY 11374   \n",
       "4798       New York, NY 10011   \n",
       "4799       Elmhurst, NY 11373   \n",
       "4800       Brooklyn, NY 11224   \n",
       "\n",
       "                                           MAIN_ADDRESS  \\\n",
       "0                2 E 55th St Unit 803New York, NY 10022   \n",
       "1     Central Park Tower Penthouse-217 W 57th New Yo...   \n",
       "2               620 Sinclair AveStaten Island, NY 10312   \n",
       "3            2 E 55th St Unit 908W33Manhattan, NY 10022   \n",
       "4                         5 E 64th StNew York, NY 10065   \n",
       "...                                                 ...   \n",
       "4796            222 E 80th St Apt 3AManhattan, NY 10075   \n",
       "4797             97-40 62 Dr Unit LgRego Park, NY 11374   \n",
       "4798        427 W 21st St Unit GardenNew York, NY 10011   \n",
       "4799         91-23 Corona Ave Unit 4GElmhurst, NY 11373   \n",
       "4800          460 Neptune Ave Apt 14OBrooklyn, NY 11224   \n",
       "\n",
       "     ADMINISTRATIVE_AREA_LEVEL_2         LOCALITY      SUBLOCALITY  \\\n",
       "0                New York County         New York        Manhattan   \n",
       "1                  United States         New York  New York County   \n",
       "2                  United States         New York  Richmond County   \n",
       "3                  United States         New York  New York County   \n",
       "4                  United States         New York  New York County   \n",
       "...                          ...              ...              ...   \n",
       "4796                    New York  New York County         New York   \n",
       "4797               United States         New York    Queens County   \n",
       "4798               United States         New York  New York County   \n",
       "4799                    New York    Queens County           Queens   \n",
       "4800                    New York     Kings County         Brooklyn   \n",
       "\n",
       "           STREET_NAME         LONG_NAME  \\\n",
       "0     East 55th Street   Regis Residence   \n",
       "1             New York  West 57th Street   \n",
       "2        Staten Island   Sinclair Avenue   \n",
       "3             New York  East 55th Street   \n",
       "4             New York  East 64th Street   \n",
       "...                ...               ...   \n",
       "4796         Manhattan               222   \n",
       "4797            Queens        62nd Drive   \n",
       "4798          New York  West 21st Street   \n",
       "4799          Flushing             91-23   \n",
       "4800      Coney Island               460   \n",
       "\n",
       "                                      FORMATTED_ADDRESS   LATITUDE  LONGITUDE  \n",
       "0     Regis Residence, 2 E 55th St #803, New York, N...  40.761255 -73.974483  \n",
       "1                217 W 57th St, New York, NY 10019, USA  40.766393 -73.980991  \n",
       "2        620 Sinclair Ave, Staten Island, NY 10312, USA  40.541805 -74.196109  \n",
       "3                  2 E 55th St, New York, NY 10022, USA  40.761398 -73.974613  \n",
       "4                  5 E 64th St, New York, NY 10065, USA  40.767224 -73.969856  \n",
       "...                                                 ...        ...        ...  \n",
       "4796         222 E 80th St #3a, New York, NY 10075, USA  40.774350 -73.955879  \n",
       "4797            97-40 62nd Dr, Rego Park, NY 11374, USA  40.732538 -73.860152  \n",
       "4798             427 W 21st St, New York, NY 10011, USA  40.745882 -74.003398  \n",
       "4799     91-23 Corona Ave. #4b, Flushing, NY 11373, USA  40.742770 -73.872752  \n",
       "4800      460 Neptune Ave #14a, Brooklyn, NY 11224, USA  40.579147 -73.970949  \n",
       "\n",
       "[4801 rows x 17 columns]"
      ]
     },
     "execution_count": 4,
     "metadata": {},
     "output_type": "execute_result"
    }
   ],
   "source": [
    "import pandas as pd\n",
    "df = pd.read_csv('NY-House-Dataset.csv')\n",
    "df"
   ]
  },
  {
   "cell_type": "code",
   "execution_count": 5,
   "id": "73b537f0",
   "metadata": {},
   "outputs": [
    {
     "data": {
      "text/plain": [
       "BROKERTITLE                    1036\n",
       "TYPE                             13\n",
       "PRICE                          1274\n",
       "BEDS                             27\n",
       "BATH                             22\n",
       "PROPERTYSQFT                   1445\n",
       "ADDRESS                        4582\n",
       "STATE                           308\n",
       "MAIN_ADDRESS                   4583\n",
       "ADMINISTRATIVE_AREA_LEVEL_2      29\n",
       "LOCALITY                         11\n",
       "SUBLOCALITY                      21\n",
       "STREET_NAME                     174\n",
       "LONG_NAME                      2731\n",
       "FORMATTED_ADDRESS              4550\n",
       "LATITUDE                       4196\n",
       "LONGITUDE                      4118\n",
       "dtype: int64"
      ]
     },
     "execution_count": 5,
     "metadata": {},
     "output_type": "execute_result"
    }
   ],
   "source": [
    "df.nunique()"
   ]
  },
  {
   "cell_type": "code",
   "execution_count": 6,
   "id": "ee6beac8",
   "metadata": {},
   "outputs": [
    {
     "name": "stdout",
     "output_type": "stream",
     "text": [
      "                    TYPE  BEDS       BATH  PROPERTYSQFT  \\\n",
      "0         Condo for sale     2   2.000000   1400.000000   \n",
      "1         Condo for sale     7  10.000000  17545.000000   \n",
      "2         House for sale     4   2.000000   2015.000000   \n",
      "3         Condo for sale     3   1.000000    445.000000   \n",
      "4     Townhouse for sale     7   2.373861  14175.000000   \n",
      "...                  ...   ...        ...           ...   \n",
      "4796      Co-op for sale     1   1.000000   2184.207862   \n",
      "4797      Co-op for sale     1   1.000000   2184.207862   \n",
      "4798      Co-op for sale     1   1.000000   2184.207862   \n",
      "4799      Condo for sale     2   1.000000    655.000000   \n",
      "4800      Co-op for sale     1   1.000000    750.000000   \n",
      "\n",
      "                        STATE  \\\n",
      "0          New York, NY 10022   \n",
      "1          New York, NY 10019   \n",
      "2     Staten Island, NY 10312   \n",
      "3         Manhattan, NY 10022   \n",
      "4          New York, NY 10065   \n",
      "...                       ...   \n",
      "4796      Manhattan, NY 10075   \n",
      "4797      Rego Park, NY 11374   \n",
      "4798       New York, NY 10011   \n",
      "4799       Elmhurst, NY 11373   \n",
      "4800       Brooklyn, NY 11224   \n",
      "\n",
      "                                           MAIN_ADDRESS  \\\n",
      "0                2 E 55th St Unit 803New York, NY 10022   \n",
      "1     Central Park Tower Penthouse-217 W 57th New Yo...   \n",
      "2               620 Sinclair AveStaten Island, NY 10312   \n",
      "3            2 E 55th St Unit 908W33Manhattan, NY 10022   \n",
      "4                         5 E 64th StNew York, NY 10065   \n",
      "...                                                 ...   \n",
      "4796            222 E 80th St Apt 3AManhattan, NY 10075   \n",
      "4797             97-40 62 Dr Unit LgRego Park, NY 11374   \n",
      "4798        427 W 21st St Unit GardenNew York, NY 10011   \n",
      "4799         91-23 Corona Ave Unit 4GElmhurst, NY 11373   \n",
      "4800          460 Neptune Ave Apt 14OBrooklyn, NY 11224   \n",
      "\n",
      "     ADMINISTRATIVE_AREA_LEVEL_2         LOCALITY      SUBLOCALITY  \\\n",
      "0                New York County         New York        Manhattan   \n",
      "1                  United States         New York  New York County   \n",
      "2                  United States         New York  Richmond County   \n",
      "3                  United States         New York  New York County   \n",
      "4                  United States         New York  New York County   \n",
      "...                          ...              ...              ...   \n",
      "4796                    New York  New York County         New York   \n",
      "4797               United States         New York    Queens County   \n",
      "4798               United States         New York  New York County   \n",
      "4799                    New York    Queens County           Queens   \n",
      "4800                    New York     Kings County         Brooklyn   \n",
      "\n",
      "           STREET_NAME      PRICE  \n",
      "0     East 55th Street     315000  \n",
      "1             New York  195000000  \n",
      "2        Staten Island     260000  \n",
      "3             New York      69000  \n",
      "4             New York   55000000  \n",
      "...                ...        ...  \n",
      "4796         Manhattan     599000  \n",
      "4797            Queens     245000  \n",
      "4798          New York    1275000  \n",
      "4799          Flushing     598125  \n",
      "4800      Coney Island     349000  \n",
      "\n",
      "[4801 rows x 11 columns]\n"
     ]
    }
   ],
   "source": [
    "col = ['TYPE','BEDS','BATH','PROPERTYSQFT','STATE','MAIN_ADDRESS','ADMINISTRATIVE_AREA_LEVEL_2','LOCALITY','SUBLOCALITY','STREET_NAME','PRICE']\n",
    "df=df[col]\n",
    "print(df)"
   ]
  },
  {
   "cell_type": "code",
   "execution_count": 7,
   "id": "5a2d2fc4",
   "metadata": {},
   "outputs": [
    {
     "data": {
      "text/plain": [
       "TYPE                           0\n",
       "BEDS                           0\n",
       "BATH                           0\n",
       "PROPERTYSQFT                   0\n",
       "STATE                          0\n",
       "MAIN_ADDRESS                   0\n",
       "ADMINISTRATIVE_AREA_LEVEL_2    0\n",
       "LOCALITY                       0\n",
       "SUBLOCALITY                    0\n",
       "STREET_NAME                    0\n",
       "PRICE                          0\n",
       "dtype: int64"
      ]
     },
     "execution_count": 7,
     "metadata": {},
     "output_type": "execute_result"
    }
   ],
   "source": [
    "df.isna().sum()"
   ]
  },
  {
   "cell_type": "code",
   "execution_count": 8,
   "id": "2959b104",
   "metadata": {},
   "outputs": [
    {
     "name": "stdout",
     "output_type": "stream",
     "text": [
      "      BEDS       BATH  PROPERTYSQFT      PRICE  TYPE_Co-op for sale  \\\n",
      "0        2   2.000000   1400.000000     315000                    0   \n",
      "1        7  10.000000  17545.000000  195000000                    0   \n",
      "2        4   2.000000   2015.000000     260000                    0   \n",
      "3        3   1.000000    445.000000      69000                    0   \n",
      "4        7   2.373861  14175.000000   55000000                    0   \n",
      "...    ...        ...           ...        ...                  ...   \n",
      "4796     1   1.000000   2184.207862     599000                    1   \n",
      "4797     1   1.000000   2184.207862     245000                    1   \n",
      "4798     1   1.000000   2184.207862    1275000                    1   \n",
      "4799     2   1.000000    655.000000     598125                    0   \n",
      "4800     1   1.000000    750.000000     349000                    1   \n",
      "\n",
      "      TYPE_Coming Soon  TYPE_Condo for sale  TYPE_Condop for sale  \\\n",
      "0                    0                    1                     0   \n",
      "1                    0                    1                     0   \n",
      "2                    0                    0                     0   \n",
      "3                    0                    1                     0   \n",
      "4                    0                    0                     0   \n",
      "...                ...                  ...                   ...   \n",
      "4796                 0                    0                     0   \n",
      "4797                 0                    0                     0   \n",
      "4798                 0                    0                     0   \n",
      "4799                 0                    1                     0   \n",
      "4800                 0                    0                     0   \n",
      "\n",
      "      TYPE_Contingent  TYPE_For sale  ...  STREET_NAME_West 65th Street  \\\n",
      "0                   0              0  ...                             0   \n",
      "1                   0              0  ...                             0   \n",
      "2                   0              0  ...                             0   \n",
      "3                   0              0  ...                             0   \n",
      "4                   0              0  ...                             0   \n",
      "...               ...            ...  ...                           ...   \n",
      "4796                0              0  ...                             0   \n",
      "4797                0              0  ...                             0   \n",
      "4798                0              0  ...                             0   \n",
      "4799                0              0  ...                             0   \n",
      "4800                0              0  ...                             0   \n",
      "\n",
      "      STREET_NAME_West Brighton  STREET_NAME_West Bronx  \\\n",
      "0                             0                       0   \n",
      "1                             0                       0   \n",
      "2                             0                       0   \n",
      "3                             0                       0   \n",
      "4                             0                       0   \n",
      "...                         ...                     ...   \n",
      "4796                          0                       0   \n",
      "4797                          0                       0   \n",
      "4798                          0                       0   \n",
      "4799                          0                       0   \n",
      "4800                          0                       0   \n",
      "\n",
      "      STREET_NAME_Westchester Square  STREET_NAME_Whitestone  \\\n",
      "0                                  0                       0   \n",
      "1                                  0                       0   \n",
      "2                                  0                       0   \n",
      "3                                  0                       0   \n",
      "4                                  0                       0   \n",
      "...                              ...                     ...   \n",
      "4796                               0                       0   \n",
      "4797                               0                       0   \n",
      "4798                               0                       0   \n",
      "4799                               0                       0   \n",
      "4800                               0                       0   \n",
      "\n",
      "      STREET_NAME_Williamsburg  STREET_NAME_Windsor Terrace  \\\n",
      "0                            0                            0   \n",
      "1                            0                            0   \n",
      "2                            0                            0   \n",
      "3                            0                            0   \n",
      "4                            0                            0   \n",
      "...                        ...                          ...   \n",
      "4796                         0                            0   \n",
      "4797                         0                            0   \n",
      "4798                         0                            0   \n",
      "4799                         0                            0   \n",
      "4800                         0                            0   \n",
      "\n",
      "      STREET_NAME_Woodhaven  STREET_NAME_Woodside  STREET_NAME_Woodstock  \n",
      "0                         0                     0                      0  \n",
      "1                         0                     0                      0  \n",
      "2                         0                     0                      0  \n",
      "3                         0                     0                      0  \n",
      "4                         0                     0                      0  \n",
      "...                     ...                   ...                    ...  \n",
      "4796                      0                     0                      0  \n",
      "4797                      0                     0                      0  \n",
      "4798                      0                     0                      0  \n",
      "4799                      0                     0                      0  \n",
      "4800                      0                     0                      0  \n",
      "\n",
      "[4801 rows x 5143 columns]\n"
     ]
    }
   ],
   "source": [
    "df = pd.get_dummies(df,dtype=int)\n",
    "print(df)"
   ]
  },
  {
   "cell_type": "code",
   "execution_count": 9,
   "id": "8d212a2a",
   "metadata": {},
   "outputs": [],
   "source": [
    "X = df.drop(columns=['PRICE'])\n",
    "Y = df['PRICE']"
   ]
  },
  {
   "cell_type": "code",
   "execution_count": 10,
   "id": "b8a9d3b6",
   "metadata": {},
   "outputs": [],
   "source": [
    "from sklearn.model_selection import train_test_split\n",
    "X_train,X_test,Y_train,Y_test = train_test_split(X,Y,test_size=0.3)"
   ]
  },
  {
   "cell_type": "code",
   "execution_count": 11,
   "id": "5c16121c",
   "metadata": {},
   "outputs": [],
   "source": [
    "from sklearn.linear_model import LinearRegression"
   ]
  },
  {
   "cell_type": "code",
   "execution_count": 12,
   "id": "b5e1cf3a",
   "metadata": {},
   "outputs": [
    {
     "data": {
      "text/html": [
       "<style>#sk-container-id-1 {color: black;}#sk-container-id-1 pre{padding: 0;}#sk-container-id-1 div.sk-toggleable {background-color: white;}#sk-container-id-1 label.sk-toggleable__label {cursor: pointer;display: block;width: 100%;margin-bottom: 0;padding: 0.3em;box-sizing: border-box;text-align: center;}#sk-container-id-1 label.sk-toggleable__label-arrow:before {content: \"▸\";float: left;margin-right: 0.25em;color: #696969;}#sk-container-id-1 label.sk-toggleable__label-arrow:hover:before {color: black;}#sk-container-id-1 div.sk-estimator:hover label.sk-toggleable__label-arrow:before {color: black;}#sk-container-id-1 div.sk-toggleable__content {max-height: 0;max-width: 0;overflow: hidden;text-align: left;background-color: #f0f8ff;}#sk-container-id-1 div.sk-toggleable__content pre {margin: 0.2em;color: black;border-radius: 0.25em;background-color: #f0f8ff;}#sk-container-id-1 input.sk-toggleable__control:checked~div.sk-toggleable__content {max-height: 200px;max-width: 100%;overflow: auto;}#sk-container-id-1 input.sk-toggleable__control:checked~label.sk-toggleable__label-arrow:before {content: \"▾\";}#sk-container-id-1 div.sk-estimator input.sk-toggleable__control:checked~label.sk-toggleable__label {background-color: #d4ebff;}#sk-container-id-1 div.sk-label input.sk-toggleable__control:checked~label.sk-toggleable__label {background-color: #d4ebff;}#sk-container-id-1 input.sk-hidden--visually {border: 0;clip: rect(1px 1px 1px 1px);clip: rect(1px, 1px, 1px, 1px);height: 1px;margin: -1px;overflow: hidden;padding: 0;position: absolute;width: 1px;}#sk-container-id-1 div.sk-estimator {font-family: monospace;background-color: #f0f8ff;border: 1px dotted black;border-radius: 0.25em;box-sizing: border-box;margin-bottom: 0.5em;}#sk-container-id-1 div.sk-estimator:hover {background-color: #d4ebff;}#sk-container-id-1 div.sk-parallel-item::after {content: \"\";width: 100%;border-bottom: 1px solid gray;flex-grow: 1;}#sk-container-id-1 div.sk-label:hover label.sk-toggleable__label {background-color: #d4ebff;}#sk-container-id-1 div.sk-serial::before {content: \"\";position: absolute;border-left: 1px solid gray;box-sizing: border-box;top: 0;bottom: 0;left: 50%;z-index: 0;}#sk-container-id-1 div.sk-serial {display: flex;flex-direction: column;align-items: center;background-color: white;padding-right: 0.2em;padding-left: 0.2em;position: relative;}#sk-container-id-1 div.sk-item {position: relative;z-index: 1;}#sk-container-id-1 div.sk-parallel {display: flex;align-items: stretch;justify-content: center;background-color: white;position: relative;}#sk-container-id-1 div.sk-item::before, #sk-container-id-1 div.sk-parallel-item::before {content: \"\";position: absolute;border-left: 1px solid gray;box-sizing: border-box;top: 0;bottom: 0;left: 50%;z-index: -1;}#sk-container-id-1 div.sk-parallel-item {display: flex;flex-direction: column;z-index: 1;position: relative;background-color: white;}#sk-container-id-1 div.sk-parallel-item:first-child::after {align-self: flex-end;width: 50%;}#sk-container-id-1 div.sk-parallel-item:last-child::after {align-self: flex-start;width: 50%;}#sk-container-id-1 div.sk-parallel-item:only-child::after {width: 0;}#sk-container-id-1 div.sk-dashed-wrapped {border: 1px dashed gray;margin: 0 0.4em 0.5em 0.4em;box-sizing: border-box;padding-bottom: 0.4em;background-color: white;}#sk-container-id-1 div.sk-label label {font-family: monospace;font-weight: bold;display: inline-block;line-height: 1.2em;}#sk-container-id-1 div.sk-label-container {text-align: center;}#sk-container-id-1 div.sk-container {/* jupyter's `normalize.less` sets `[hidden] { display: none; }` but bootstrap.min.css set `[hidden] { display: none !important; }` so we also need the `!important` here to be able to override the default hidden behavior on the sphinx rendered scikit-learn.org. See: https://github.com/scikit-learn/scikit-learn/issues/21755 */display: inline-block !important;position: relative;}#sk-container-id-1 div.sk-text-repr-fallback {display: none;}</style><div id=\"sk-container-id-1\" class=\"sk-top-container\"><div class=\"sk-text-repr-fallback\"><pre>LinearRegression()</pre><b>In a Jupyter environment, please rerun this cell to show the HTML representation or trust the notebook. <br />On GitHub, the HTML representation is unable to render, please try loading this page with nbviewer.org.</b></div><div class=\"sk-container\" hidden><div class=\"sk-item\"><div class=\"sk-estimator sk-toggleable\"><input class=\"sk-toggleable__control sk-hidden--visually\" id=\"sk-estimator-id-1\" type=\"checkbox\" checked><label for=\"sk-estimator-id-1\" class=\"sk-toggleable__label sk-toggleable__label-arrow\">LinearRegression</label><div class=\"sk-toggleable__content\"><pre>LinearRegression()</pre></div></div></div></div></div>"
      ],
      "text/plain": [
       "LinearRegression()"
      ]
     },
     "execution_count": 12,
     "metadata": {},
     "output_type": "execute_result"
    }
   ],
   "source": [
    "reg1=LinearRegression()\n",
    "reg1.fit(X_train,Y_train)"
   ]
  },
  {
   "cell_type": "code",
   "execution_count": 13,
   "id": "ac6ee63b",
   "metadata": {},
   "outputs": [
    {
     "data": {
      "text/plain": [
       "1.0"
      ]
     },
     "execution_count": 13,
     "metadata": {},
     "output_type": "execute_result"
    }
   ],
   "source": [
    "reg1.score(X_train,Y_train)"
   ]
  },
  {
   "cell_type": "code",
   "execution_count": 14,
   "id": "7e31e815",
   "metadata": {},
   "outputs": [
    {
     "data": {
      "text/plain": [
       "0.0032124087937694945"
      ]
     },
     "execution_count": 14,
     "metadata": {},
     "output_type": "execute_result"
    }
   ],
   "source": [
    "reg1.score(X_test,Y_test)"
   ]
  },
  {
   "cell_type": "code",
   "execution_count": 15,
   "id": "87b466bf",
   "metadata": {},
   "outputs": [
    {
     "data": {
      "text/html": [
       "<style>#sk-container-id-2 {color: black;}#sk-container-id-2 pre{padding: 0;}#sk-container-id-2 div.sk-toggleable {background-color: white;}#sk-container-id-2 label.sk-toggleable__label {cursor: pointer;display: block;width: 100%;margin-bottom: 0;padding: 0.3em;box-sizing: border-box;text-align: center;}#sk-container-id-2 label.sk-toggleable__label-arrow:before {content: \"▸\";float: left;margin-right: 0.25em;color: #696969;}#sk-container-id-2 label.sk-toggleable__label-arrow:hover:before {color: black;}#sk-container-id-2 div.sk-estimator:hover label.sk-toggleable__label-arrow:before {color: black;}#sk-container-id-2 div.sk-toggleable__content {max-height: 0;max-width: 0;overflow: hidden;text-align: left;background-color: #f0f8ff;}#sk-container-id-2 div.sk-toggleable__content pre {margin: 0.2em;color: black;border-radius: 0.25em;background-color: #f0f8ff;}#sk-container-id-2 input.sk-toggleable__control:checked~div.sk-toggleable__content {max-height: 200px;max-width: 100%;overflow: auto;}#sk-container-id-2 input.sk-toggleable__control:checked~label.sk-toggleable__label-arrow:before {content: \"▾\";}#sk-container-id-2 div.sk-estimator input.sk-toggleable__control:checked~label.sk-toggleable__label {background-color: #d4ebff;}#sk-container-id-2 div.sk-label input.sk-toggleable__control:checked~label.sk-toggleable__label {background-color: #d4ebff;}#sk-container-id-2 input.sk-hidden--visually {border: 0;clip: rect(1px 1px 1px 1px);clip: rect(1px, 1px, 1px, 1px);height: 1px;margin: -1px;overflow: hidden;padding: 0;position: absolute;width: 1px;}#sk-container-id-2 div.sk-estimator {font-family: monospace;background-color: #f0f8ff;border: 1px dotted black;border-radius: 0.25em;box-sizing: border-box;margin-bottom: 0.5em;}#sk-container-id-2 div.sk-estimator:hover {background-color: #d4ebff;}#sk-container-id-2 div.sk-parallel-item::after {content: \"\";width: 100%;border-bottom: 1px solid gray;flex-grow: 1;}#sk-container-id-2 div.sk-label:hover label.sk-toggleable__label {background-color: #d4ebff;}#sk-container-id-2 div.sk-serial::before {content: \"\";position: absolute;border-left: 1px solid gray;box-sizing: border-box;top: 0;bottom: 0;left: 50%;z-index: 0;}#sk-container-id-2 div.sk-serial {display: flex;flex-direction: column;align-items: center;background-color: white;padding-right: 0.2em;padding-left: 0.2em;position: relative;}#sk-container-id-2 div.sk-item {position: relative;z-index: 1;}#sk-container-id-2 div.sk-parallel {display: flex;align-items: stretch;justify-content: center;background-color: white;position: relative;}#sk-container-id-2 div.sk-item::before, #sk-container-id-2 div.sk-parallel-item::before {content: \"\";position: absolute;border-left: 1px solid gray;box-sizing: border-box;top: 0;bottom: 0;left: 50%;z-index: -1;}#sk-container-id-2 div.sk-parallel-item {display: flex;flex-direction: column;z-index: 1;position: relative;background-color: white;}#sk-container-id-2 div.sk-parallel-item:first-child::after {align-self: flex-end;width: 50%;}#sk-container-id-2 div.sk-parallel-item:last-child::after {align-self: flex-start;width: 50%;}#sk-container-id-2 div.sk-parallel-item:only-child::after {width: 0;}#sk-container-id-2 div.sk-dashed-wrapped {border: 1px dashed gray;margin: 0 0.4em 0.5em 0.4em;box-sizing: border-box;padding-bottom: 0.4em;background-color: white;}#sk-container-id-2 div.sk-label label {font-family: monospace;font-weight: bold;display: inline-block;line-height: 1.2em;}#sk-container-id-2 div.sk-label-container {text-align: center;}#sk-container-id-2 div.sk-container {/* jupyter's `normalize.less` sets `[hidden] { display: none; }` but bootstrap.min.css set `[hidden] { display: none !important; }` so we also need the `!important` here to be able to override the default hidden behavior on the sphinx rendered scikit-learn.org. See: https://github.com/scikit-learn/scikit-learn/issues/21755 */display: inline-block !important;position: relative;}#sk-container-id-2 div.sk-text-repr-fallback {display: none;}</style><div id=\"sk-container-id-2\" class=\"sk-top-container\"><div class=\"sk-text-repr-fallback\"><pre>Lasso(alpha=15, max_iter=100, tol=0.1)</pre><b>In a Jupyter environment, please rerun this cell to show the HTML representation or trust the notebook. <br />On GitHub, the HTML representation is unable to render, please try loading this page with nbviewer.org.</b></div><div class=\"sk-container\" hidden><div class=\"sk-item\"><div class=\"sk-estimator sk-toggleable\"><input class=\"sk-toggleable__control sk-hidden--visually\" id=\"sk-estimator-id-2\" type=\"checkbox\" checked><label for=\"sk-estimator-id-2\" class=\"sk-toggleable__label sk-toggleable__label-arrow\">Lasso</label><div class=\"sk-toggleable__content\"><pre>Lasso(alpha=15, max_iter=100, tol=0.1)</pre></div></div></div></div></div>"
      ],
      "text/plain": [
       "Lasso(alpha=15, max_iter=100, tol=0.1)"
      ]
     },
     "execution_count": 15,
     "metadata": {},
     "output_type": "execute_result"
    }
   ],
   "source": [
    "from sklearn.linear_model import Lasso\n",
    "reg2 = Lasso(alpha=15,max_iter=100,tol=0.1)  \n",
    "reg2.fit(X_train,Y_train)"
   ]
  },
  {
   "cell_type": "code",
   "execution_count": 16,
   "id": "83d0f0fb",
   "metadata": {},
   "outputs": [
    {
     "data": {
      "text/plain": [
       "0.9998071458073444"
      ]
     },
     "execution_count": 16,
     "metadata": {},
     "output_type": "execute_result"
    }
   ],
   "source": [
    "reg2.score(X_train,Y_train)"
   ]
  },
  {
   "cell_type": "code",
   "execution_count": 17,
   "id": "8aea55df",
   "metadata": {},
   "outputs": [
    {
     "data": {
      "text/plain": [
       "0.008539417515154746"
      ]
     },
     "execution_count": 17,
     "metadata": {},
     "output_type": "execute_result"
    }
   ],
   "source": [
    "reg2.score(X_test,Y_test)"
   ]
  },
  {
   "cell_type": "code",
   "execution_count": 18,
   "id": "4a4b9a83",
   "metadata": {},
   "outputs": [
    {
     "data": {
      "text/html": [
       "<style>#sk-container-id-3 {color: black;}#sk-container-id-3 pre{padding: 0;}#sk-container-id-3 div.sk-toggleable {background-color: white;}#sk-container-id-3 label.sk-toggleable__label {cursor: pointer;display: block;width: 100%;margin-bottom: 0;padding: 0.3em;box-sizing: border-box;text-align: center;}#sk-container-id-3 label.sk-toggleable__label-arrow:before {content: \"▸\";float: left;margin-right: 0.25em;color: #696969;}#sk-container-id-3 label.sk-toggleable__label-arrow:hover:before {color: black;}#sk-container-id-3 div.sk-estimator:hover label.sk-toggleable__label-arrow:before {color: black;}#sk-container-id-3 div.sk-toggleable__content {max-height: 0;max-width: 0;overflow: hidden;text-align: left;background-color: #f0f8ff;}#sk-container-id-3 div.sk-toggleable__content pre {margin: 0.2em;color: black;border-radius: 0.25em;background-color: #f0f8ff;}#sk-container-id-3 input.sk-toggleable__control:checked~div.sk-toggleable__content {max-height: 200px;max-width: 100%;overflow: auto;}#sk-container-id-3 input.sk-toggleable__control:checked~label.sk-toggleable__label-arrow:before {content: \"▾\";}#sk-container-id-3 div.sk-estimator input.sk-toggleable__control:checked~label.sk-toggleable__label {background-color: #d4ebff;}#sk-container-id-3 div.sk-label input.sk-toggleable__control:checked~label.sk-toggleable__label {background-color: #d4ebff;}#sk-container-id-3 input.sk-hidden--visually {border: 0;clip: rect(1px 1px 1px 1px);clip: rect(1px, 1px, 1px, 1px);height: 1px;margin: -1px;overflow: hidden;padding: 0;position: absolute;width: 1px;}#sk-container-id-3 div.sk-estimator {font-family: monospace;background-color: #f0f8ff;border: 1px dotted black;border-radius: 0.25em;box-sizing: border-box;margin-bottom: 0.5em;}#sk-container-id-3 div.sk-estimator:hover {background-color: #d4ebff;}#sk-container-id-3 div.sk-parallel-item::after {content: \"\";width: 100%;border-bottom: 1px solid gray;flex-grow: 1;}#sk-container-id-3 div.sk-label:hover label.sk-toggleable__label {background-color: #d4ebff;}#sk-container-id-3 div.sk-serial::before {content: \"\";position: absolute;border-left: 1px solid gray;box-sizing: border-box;top: 0;bottom: 0;left: 50%;z-index: 0;}#sk-container-id-3 div.sk-serial {display: flex;flex-direction: column;align-items: center;background-color: white;padding-right: 0.2em;padding-left: 0.2em;position: relative;}#sk-container-id-3 div.sk-item {position: relative;z-index: 1;}#sk-container-id-3 div.sk-parallel {display: flex;align-items: stretch;justify-content: center;background-color: white;position: relative;}#sk-container-id-3 div.sk-item::before, #sk-container-id-3 div.sk-parallel-item::before {content: \"\";position: absolute;border-left: 1px solid gray;box-sizing: border-box;top: 0;bottom: 0;left: 50%;z-index: -1;}#sk-container-id-3 div.sk-parallel-item {display: flex;flex-direction: column;z-index: 1;position: relative;background-color: white;}#sk-container-id-3 div.sk-parallel-item:first-child::after {align-self: flex-end;width: 50%;}#sk-container-id-3 div.sk-parallel-item:last-child::after {align-self: flex-start;width: 50%;}#sk-container-id-3 div.sk-parallel-item:only-child::after {width: 0;}#sk-container-id-3 div.sk-dashed-wrapped {border: 1px dashed gray;margin: 0 0.4em 0.5em 0.4em;box-sizing: border-box;padding-bottom: 0.4em;background-color: white;}#sk-container-id-3 div.sk-label label {font-family: monospace;font-weight: bold;display: inline-block;line-height: 1.2em;}#sk-container-id-3 div.sk-label-container {text-align: center;}#sk-container-id-3 div.sk-container {/* jupyter's `normalize.less` sets `[hidden] { display: none; }` but bootstrap.min.css set `[hidden] { display: none !important; }` so we also need the `!important` here to be able to override the default hidden behavior on the sphinx rendered scikit-learn.org. See: https://github.com/scikit-learn/scikit-learn/issues/21755 */display: inline-block !important;position: relative;}#sk-container-id-3 div.sk-text-repr-fallback {display: none;}</style><div id=\"sk-container-id-3\" class=\"sk-top-container\"><div class=\"sk-text-repr-fallback\"><pre>Ridge(alpha=15, max_iter=100, tol=0.1)</pre><b>In a Jupyter environment, please rerun this cell to show the HTML representation or trust the notebook. <br />On GitHub, the HTML representation is unable to render, please try loading this page with nbviewer.org.</b></div><div class=\"sk-container\" hidden><div class=\"sk-item\"><div class=\"sk-estimator sk-toggleable\"><input class=\"sk-toggleable__control sk-hidden--visually\" id=\"sk-estimator-id-3\" type=\"checkbox\" checked><label for=\"sk-estimator-id-3\" class=\"sk-toggleable__label sk-toggleable__label-arrow\">Ridge</label><div class=\"sk-toggleable__content\"><pre>Ridge(alpha=15, max_iter=100, tol=0.1)</pre></div></div></div></div></div>"
      ],
      "text/plain": [
       "Ridge(alpha=15, max_iter=100, tol=0.1)"
      ]
     },
     "execution_count": 18,
     "metadata": {},
     "output_type": "execute_result"
    }
   ],
   "source": [
    "from sklearn.linear_model import Ridge\n",
    "reg3 = Ridge(alpha=15,max_iter=100,tol=0.1)  \n",
    "reg3.fit(X_train,Y_train)  "
   ]
  },
  {
   "cell_type": "code",
   "execution_count": 19,
   "id": "9289cd32",
   "metadata": {},
   "outputs": [
    {
     "data": {
      "text/plain": [
       "0.46177369559196346"
      ]
     },
     "execution_count": 19,
     "metadata": {},
     "output_type": "execute_result"
    }
   ],
   "source": [
    "reg3.score(X_train,Y_train)"
   ]
  },
  {
   "cell_type": "code",
   "execution_count": 20,
   "id": "0712d544",
   "metadata": {},
   "outputs": [
    {
     "data": {
      "text/plain": [
       "0.00686126728701264"
      ]
     },
     "execution_count": 20,
     "metadata": {},
     "output_type": "execute_result"
    }
   ],
   "source": [
    "reg3.score(X_test,Y_test)"
   ]
  }
 ],
 "metadata": {
  "kernelspec": {
   "display_name": "Python 3 (ipykernel)",
   "language": "python",
   "name": "python3"
  },
  "language_info": {
   "codemirror_mode": {
    "name": "ipython",
    "version": 3
   },
   "file_extension": ".py",
   "mimetype": "text/x-python",
   "name": "python",
   "nbconvert_exporter": "python",
   "pygments_lexer": "ipython3",
   "version": "3.11.5"
  }
 },
 "nbformat": 4,
 "nbformat_minor": 5
}
